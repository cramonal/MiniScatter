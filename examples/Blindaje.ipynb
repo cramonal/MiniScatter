{
 "cells": [
  {
   "cell_type": "markdown",
   "id": "8f2b29cb",
   "metadata": {},
   "source": [
    "# Blindaje de Gammas y Betas\n",
    "\n",
    "Simula la atenuación de fotones y betas por una pared de espesor variable \n",
    "Basado en ThicknessScan de K. Sjobak (October 23rd 2018, January 2019)\n",
    "\n"
   ]
  },
  {
   "cell_type": "code",
   "execution_count": 1,
   "id": "86b6488b",
   "metadata": {},
   "outputs": [
    {
     "name": "stdout",
     "output_type": "stream",
     "text": [
      "Welcome to JupyROOT 6.20/02\n"
     ]
    }
   ],
   "source": [
    "import numpy as np\n",
    "import matplotlib.pyplot as plt\n",
    "from scipy import stats\n",
    "import ROOT\n",
    "\n",
    "# %matplotlib notebook\n",
    "\n",
    "# plt.rcParams['figure.figsize'] = [8, 5]\n",
    "plt.rcParams['figure.dpi'] = 120\n",
    "# \n",
    "# #colorCycle = plt.rcParams['axes.prop_cycle']\n",
    "# plt.rcParams['figure.max_open_warning'] = 100\n",
    "\n",
    "#Setup MiniScatter\n",
    "import sys\n",
    "MiniScatter_path=\"/opt/MiniScatter/build\"\n",
    "sys.path.append(MiniScatter_path)\n",
    "#import CLEARview\n",
    "\n",
    "import miniScatterDriver\n",
    "import miniScatterScanner"
   ]
  },
  {
   "cell_type": "code",
   "execution_count": 2,
   "id": "7020db3d",
   "metadata": {},
   "outputs": [
    {
     "name": "stdout",
     "output_type": "stream",
     "text": [
      "Al: 24.26462615100901 [g/cm^2] ->  89.90228288628757 [mm]\n"
     ]
    }
   ],
   "source": [
    "### Parameters for radiation length calculation ###\n",
    "\n",
    "# Element data from PDG\n",
    "# http://pdg.lbl.gov/2018/AtomicNuclearProperties/index.html\n",
    "A = {} #[g/mole]\n",
    "Z = {} #[e]\n",
    "dens = {} #[g/cm3]\n",
    "\n",
    "# http://pdg.lbl.gov/2009/reviews/rpp2009-rev-atomic-nuclear-prop.pdf\n",
    "radLen = {} #[g/cm^2]\n",
    "\n",
    "\n",
    "A   [\"Al\"] = 26.9815385\n",
    "Z   [\"Al\"] = 13\n",
    "dens[\"Al\"] = 2.699\n",
    "\n",
    "A   [\"Pb\"] = 207.2\n",
    "Z   [\"Pb\"] = 82\n",
    "dens[\"Pb\"] = 11.35\n",
    "\n",
    "\n",
    "def computeX0(elem):\n",
    "    #Computes in the radiation length in g/cm^2\n",
    "    if not elem in A:\n",
    "        return radLen[elem]\n",
    "    \n",
    "    return (716.4 * A[elem]) / \\\n",
    "        ( Z[elem] * (Z[elem]+1) * np.log(287.0/np.sqrt(Z[elem])) )\n",
    "def computeL(elem):\n",
    "    #Computes the radiation length in mm\n",
    "    return 10*computeX0(elem)/dens[elem]\n",
    "def printRadLenData(elem):\n",
    "    print(elem+\":\", computeX0(elem),\"[g/cm^2] -> \", computeL(elem),\"[mm]\")\n",
    "\n",
    "printRadLenData(\"Al\")"
   ]
  },
  {
   "cell_type": "code",
   "execution_count": 3,
   "id": "12b0cbb6",
   "metadata": {},
   "outputs": [],
   "source": [
    "### Basic simulation parameters ###\n",
    "\n",
    "NUM_THREADS = 1\n",
    "QUIET = False\n",
    "TRYLOAD = False #Try to load already existing data instead of recomputing?\n",
    "TMPFOLDER = \"/tmp/miniScatter/PLE_thicknessScan\"\n",
    "\n",
    "baseSimSetup = {}\n",
    "#baseSimSetup[\"PHYS\"] = \"QGSP_BERT__SS\"\n",
    "baseSimSetup[\"PHYS\"] = \"QGSP_BERT\"\n",
    "\n",
    "baseSimSetup[\"N\"] = 500 #number of simulated particles emited by the source\n",
    "\n",
    "baseSimSetup[\"ZOFFSET\"]           = 0.0 #Auto\n",
    "\n",
    "baseSimSetup[\"DIST\"] = 100.0 #Detector distance from target center [mm] \n",
    "\n",
    "baseSimSetup[\"QUICKMODE\"] = True #Skip verification plots\n",
    "baseSimSetup[\"MINIROOT\"]  = True #Skip TTRees in the .root files\n",
    "\n",
    "#Cutoffs for _cutoff analyses\n",
    "baseSimSetup[\"CUTOFF_ENERGYFRACTION\"] = 0.5\n",
    "baseSimSetup[\"CUTOFF_RADIUS\"] = 100.0 #[mm]\n",
    "\n",
    "\n",
    "thickScan_radLen=np.logspace(-3, 1.0, 30)"
   ]
  },
  {
   "cell_type": "code",
   "execution_count": 4,
   "id": "7e2bd6e4",
   "metadata": {},
   "outputs": [],
   "source": [
    "def showYield_singleSim(thickScan,numPart,N,p_type):\n",
    "    '''\n",
    "    Function to plot the results from the simulation. \n",
    "    It allow to plot different particles depending on the source type (gamma or betas)\n",
    "    '''\n",
    "    plt.figure()\n",
    "    \n",
    "    \n",
    "    if p_type == 'gamma':\n",
    "     \n",
    "        plt.title(\"Photons\")\n",
    "        plt.plot(thickScan,numPart[\"tracker\"][22]/N,'bo', label=\"tracker\") # 22 -> pdg ID to identify photons\n",
    "        plt.legend(loc='upper right')\n",
    "        plt.xlabel('Target thickness [mm]')\n",
    "        plt.ylabel('$N_{out}/N_{original}$')\n",
    "       \n",
    "\n",
    "    if p_type == 'e':\n",
    "        plt.subplot(1,2,1)\n",
    "        \n",
    "        plt.title(\"Photons\")\n",
    "        plt.plot(thickScan,numPart[\"tracker\"][22]/N,'bo', label=\"tracker\")\n",
    "        plt.subplot(1,2,2)\n",
    "    \n",
    "        plt.title(\"Surviving positrons and electrons\")\n",
    "        \n",
    "        plt.plot(thickScan,numPart[\"tracker\" ][11]/N,'mo', label=\"e-\") # 11 -> pdg ID to identify electrons\n",
    "        plt.plot(thickScan,numPart[\"tracker\" ][-11]/N,'bo', label=\"e+\")\n",
    "        plt.legend(loc='upper right')\n",
    "        plt.xlabel('Target thickness [mm]')\n",
    "        "
   ]
  },
  {
   "cell_type": "code",
   "execution_count": 6,
   "id": "b951b7cd",
   "metadata": {},
   "outputs": [
    {
     "name": "stdout",
     "output_type": "stream",
     "text": [
      "LoadFile filename and status: 'SaveSim_THICK_TargetThickness-Pb-100MeV-gamma.h5' False\n",
      "THICK = 0.1 (1/8)\n",
      "creating log ./log/\n",
      "Running command line: './MiniScatter -t 0.1 -m G4_Pb -d 100.0 -p QGSP_BERT -n 500 -e 1 -b gamma -z 0.0 -s 1 -f output_THICK=0.1 -o /tmp/miniScatter/PLE_thicknessScan -q -r --cutoffEnergyFraction 0.5 --cutoffRadius 100.0'\n",
      "\n",
      "Done!\n",
      "Deleting '/tmp/miniScatter/PLE_thicknessScan/output_THICK=0.1.root'.\n",
      "THICK = 5.1 (2/8)\n",
      "creating log ./log/\n",
      "Running command line: './MiniScatter -t 5.1 -m G4_Pb -d 100.0 -p QGSP_BERT -n 500 -e 1 -b gamma -z 0.0 -s 2 -f output_THICK=5.1 -o /tmp/miniScatter/PLE_thicknessScan -q -r --cutoffEnergyFraction 0.5 --cutoffRadius 100.0'\n",
      "\n",
      "Done!\n",
      "Deleting '/tmp/miniScatter/PLE_thicknessScan/output_THICK=5.1.root'.\n",
      "THICK = 10.1 (3/8)\n",
      "creating log ./log/\n",
      "Running command line: './MiniScatter -t 10.1 -m G4_Pb -d 100.0 -p QGSP_BERT -n 500 -e 1 -b gamma -z 0.0 -s 3 -f output_THICK=10.1 -o /tmp/miniScatter/PLE_thicknessScan -q -r --cutoffEnergyFraction 0.5 --cutoffRadius 100.0'\n",
      "\n",
      "Done!\n",
      "Deleting '/tmp/miniScatter/PLE_thicknessScan/output_THICK=10.1.root'.\n",
      "THICK = 15.1 (4/8)\n",
      "creating log ./log/\n",
      "Running command line: './MiniScatter -t 15.1 -m G4_Pb -d 100.0 -p QGSP_BERT -n 500 -e 1 -b gamma -z 0.0 -s 4 -f output_THICK=15.1 -o /tmp/miniScatter/PLE_thicknessScan -q -r --cutoffEnergyFraction 0.5 --cutoffRadius 100.0'\n",
      "\n",
      "Done!\n",
      "Deleting '/tmp/miniScatter/PLE_thicknessScan/output_THICK=15.1.root'.\n",
      "THICK = 20.1 (5/8)\n",
      "creating log ./log/\n",
      "Running command line: './MiniScatter -t 20.1 -m G4_Pb -d 100.0 -p QGSP_BERT -n 500 -e 1 -b gamma -z 0.0 -s 5 -f output_THICK=20.1 -o /tmp/miniScatter/PLE_thicknessScan -q -r --cutoffEnergyFraction 0.5 --cutoffRadius 100.0'\n",
      "\n",
      "Done!\n",
      "Deleting '/tmp/miniScatter/PLE_thicknessScan/output_THICK=20.1.root'.\n",
      "THICK = 25.1 (6/8)\n",
      "creating log ./log/\n",
      "Running command line: './MiniScatter -t 25.1 -m G4_Pb -d 100.0 -p QGSP_BERT -n 500 -e 1 -b gamma -z 0.0 -s 6 -f output_THICK=25.1 -o /tmp/miniScatter/PLE_thicknessScan -q -r --cutoffEnergyFraction 0.5 --cutoffRadius 100.0'\n",
      "\n",
      "Done!\n",
      "Deleting '/tmp/miniScatter/PLE_thicknessScan/output_THICK=25.1.root'.\n",
      "THICK = 30.1 (7/8)\n",
      "creating log ./log/\n",
      "Running command line: './MiniScatter -t 30.1 -m G4_Pb -d 100.0 -p QGSP_BERT -n 500 -e 1 -b gamma -z 0.0 -s 7 -f output_THICK=30.1 -o /tmp/miniScatter/PLE_thicknessScan -q -r --cutoffEnergyFraction 0.5 --cutoffRadius 100.0'\n",
      "\n",
      "Done!\n",
      "Deleting '/tmp/miniScatter/PLE_thicknessScan/output_THICK=30.1.root'.\n",
      "THICK = 35.1 (8/8)\n",
      "creating log ./log/\n",
      "Running command line: './MiniScatter -t 35.1 -m G4_Pb -d 100.0 -p QGSP_BERT -n 500 -e 1 -b gamma -z 0.0 -s 8 -f output_THICK=35.1 -o /tmp/miniScatter/PLE_thicknessScan -q -r --cutoffEnergyFraction 0.5 --cutoffRadius 100.0'\n",
      "\n",
      "Done!\n",
      "Deleting '/tmp/miniScatter/PLE_thicknessScan/output_THICK=35.1.root'.\n",
      "Simulation complete, saving data to h5 for later retrival.\n"
     ]
    },
    {
     "data": {
      "image/png": "[encoded data removed]",
      "text/plain": [
       "<Figure size 432x288 with 1 Axes>"
      ]
     },
     "metadata": {
      "needs_background": "light"
     },
     "output_type": "display_data"
    }
   ],
   "source": [
    "# Exaple on how to launch gamma with energy 1 MeV on a lead target\n",
    "baseSimSetup_Pb = baseSimSetup.copy()\n",
    "baseSimSetup_Pb[\"BEAM\"] = \"gamma\" #type of particle (\"e+\" for betas)\n",
    "baseSimSetup_Pb[\"MAT\"] = \"G4_Pb\" #target material\n",
    "baseSimSetup_Pb[\"ENERGY\"] = 1 # Energy of the beam in MeV, is a pencil beam \n",
    "\n",
    "\n",
    "thickScan_Pb =np.arange(0.1,40,5) #scan in differentes vaules of the material thikness\n",
    "\n",
    "#run the simulation or load file if simulation already runned \n",
    "(twiss_Pb, numPart_Pb, objects_Pb, analysis_output_Pb) = \\\n",
    "    miniScatterScanner.ScanMiniScatter(\"THICK\",thickScan_Pb,baseSimSetup_Pb, \\\n",
    "                                       NUM_THREADS=1,tryLoad=TRYLOAD,\\\n",
    "                                       COMMENT=\"TargetThickness-Pb-100MeV-gamma\", QUIET=QUIET,\\\n",
    "                                       tmpFolder=TMPFOLDER)\n",
    "\n",
    "#plotting\n",
    "showYield_singleSim(thickScan_Pb,numPart_Pb,baseSimSetup_Pb[\"N\"],p_type='gamma')\n",
    "\n",
    "plt.show()"
   ]
  },
  {
   "cell_type": "code",
   "execution_count": null,
   "id": "be1ee475",
   "metadata": {},
   "outputs": [],
   "source": []
  }
 ],
 "metadata": {
  "kernelspec": {
   "display_name": "Python 3",
   "language": "python",
   "name": "python3"
  },
  "language_info": {
   "codemirror_mode": {
    "name": "ipython",
    "version": 3
   },
   "file_extension": ".py",
   "mimetype": "text/x-python",
   "name": "python",
   "nbconvert_exporter": "python",
   "pygments_lexer": "ipython3",
   "version": "3.7.6"
  }
 },
 "nbformat": 4,
 "nbformat_minor": 5
}
