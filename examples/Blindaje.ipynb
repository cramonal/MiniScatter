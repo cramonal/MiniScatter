{
 "cells": [
  {
   "cell_type": "markdown",
   "id": "painted-absorption",
   "metadata": {},
   "source": [
    "# Blindaje de Gammas y Betas\n",
    "\n",
    "Simula la atenuación de fotones y betas por una pared de espesor variable \n",
    "Basado en ThicknessScan de K. Sjobak (October 23rd 2018, January 2019)\n",
    "\n"
   ]
  },
  {
   "cell_type": "code",
   "execution_count": 5,
   "id": "vanilla-console",
   "metadata": {},
   "outputs": [],
   "source": [
    "import numpy as np\n",
    "import matplotlib.pyplot as plt\n",
    "from scipy import stats\n",
    "import ROOT\n",
    "\n",
    "# %matplotlib notebook\n",
    "\n",
    "# plt.rcParams['figure.figsize'] = [8, 5]\n",
    "plt.rcParams['figure.dpi'] = 120\n",
    "# \n",
    "# #colorCycle = plt.rcParams['axes.prop_cycle']\n",
    "# plt.rcParams['figure.max_open_warning'] = 100\n",
    "\n",
    "#Setup MiniScatter\n",
    "import sys\n",
    "MiniScatter_path=\"/opt/MiniScatter/build\"\n",
    "sys.path.append(MiniScatter_path)\n",
    "#import CLEARview\n",
    "\n",
    "import miniScatterDriver\n",
    "import miniScatterScanner"
   ]
  },
  {
   "cell_type": "code",
   "execution_count": 6,
   "id": "administrative-radar",
   "metadata": {},
   "outputs": [
    {
     "name": "stdout",
     "output_type": "stream",
     "text": [
      "Al: 24.26462615100901 [g/cm^2] ->  89.90228288628757 [mm]\n"
     ]
    }
   ],
   "source": [
    "### Parameters for radiation length calculation ###\n",
    "\n",
    "# Element data from PDG\n",
    "# http://pdg.lbl.gov/2018/AtomicNuclearProperties/index.html\n",
    "A = {} #[g/mole]\n",
    "Z = {} #[e]\n",
    "dens = {} #[g/cm3]\n",
    "\n",
    "# http://pdg.lbl.gov/2009/reviews/rpp2009-rev-atomic-nuclear-prop.pdf\n",
    "radLen = {} #[g/cm^2]\n",
    "\n",
    "\n",
    "A   [\"Al\"] = 26.9815385\n",
    "Z   [\"Al\"] = 13\n",
    "dens[\"Al\"] = 2.699\n",
    "\n",
    "A   [\"Pb\"] = 207.2\n",
    "Z   [\"Pb\"] = 82\n",
    "dens[\"Pb\"] = 11.35\n",
    "\n",
    "\n",
    "def computeX0(elem):\n",
    "    #Computes in the radiation length in g/cm^2\n",
    "    if not elem in A:\n",
    "        return radLen[elem]\n",
    "    \n",
    "    return (716.4 * A[elem]) / \\\n",
    "        ( Z[elem] * (Z[elem]+1) * np.log(287.0/np.sqrt(Z[elem])) )\n",
    "def computeL(elem):\n",
    "    #Computes the radiation length in mm\n",
    "    return 10*computeX0(elem)/dens[elem]\n",
    "def printRadLenData(elem):\n",
    "    print(elem+\":\", computeX0(elem),\"[g/cm^2] -> \", computeL(elem),\"[mm]\")\n",
    "\n",
    "printRadLenData(\"Al\")"
   ]
  },
  {
   "cell_type": "code",
   "execution_count": 7,
   "id": "baking-elevation",
   "metadata": {},
   "outputs": [],
   "source": [
    "### Basic simulation parameters ###\n",
    "\n",
    "NUM_THREADS = 16\n",
    "QUIET = False\n",
    "TRYLOAD = False #Try to load already existing data instead of recomputing?\n",
    "TMPFOLDER = \"/tmp/miniScatter/PLE_thicknessScan\"\n",
    "\n",
    "baseSimSetup = {}\n",
    "#baseSimSetup[\"PHYS\"] = \"QGSP_BERT__SS\"\n",
    "baseSimSetup[\"PHYS\"] = \"QGSP_BERT\"\n",
    "\n",
    "baseSimSetup[\"N\"] = 500 #number of simulated particles emited by the source\n",
    "\n",
    "baseSimSetup[\"ZOFFSET\"]           = 0.0 #Auto\n",
    "\n",
    "baseSimSetup[\"DIST\"] = 100.0 #Detector distance from target center [mm] \n",
    "\n",
    "baseSimSetup[\"QUICKMODE\"] = True #Skip verification plots\n",
    "baseSimSetup[\"MINIROOT\"]  = True #Skip TTRees in the .root files\n",
    "\n",
    "#Cutoffs for _cutoff analyses\n",
    "baseSimSetup[\"CUTOFF_ENERGYFRACTION\"] = 0.5\n",
    "baseSimSetup[\"CUTOFF_RADIUS\"] = 100.0 #[mm]\n",
    "\n",
    "\n",
    "thickScan_radLen=np.logspace(-3, 1.0, 30)"
   ]
  },
  {
   "cell_type": "code",
   "execution_count": 8,
   "id": "characteristic-grain",
   "metadata": {},
   "outputs": [],
   "source": [
    "def showYield_singleSim(thickScan,numPart,N,p_type):\n",
    "    '''\n",
    "    Function to plot the results from the simulation. \n",
    "    It allow to plot different particles depending on the source type (gamma or betas)\n",
    "    '''\n",
    "    plt.figure()\n",
    "    \n",
    "    \n",
    "    if p_type == 'gamma':\n",
    "     \n",
    "        plt.title(\"Photons\")\n",
    "        plt.plot(thickScan,numPart[\"tracker\"][22]/N,'bo', label=\"tracker\") # 22 -> pdg ID to identify photons\n",
    "        plt.legend(loc='upper right')\n",
    "        plt.xlabel('Target thickness [mm]')\n",
    "        plt.ylabel('$N_{out}/N_{original}$')\n",
    "       \n",
    "\n",
    "    if p_type == 'e':\n",
    "        plt.subplot(1,2,1)\n",
    "        \n",
    "        plt.title(\"Photons\")\n",
    "        plt.plot(thickScan,numPart[\"tracker\"][22]/N,'bo', label=\"tracker\")\n",
    "        plt.subplot(1,2,2)\n",
    "    \n",
    "        plt.title(\"Surviving positrons and electrons\")\n",
    "        \n",
    "        plt.plot(thickScan,numPart[\"tracker\" ][11]/N,'mo', label=\"e-\") # 11 -> pdg ID to identify electrons\n",
    "        plt.plot(thickScan,numPart[\"tracker\" ][-11]/N,'bo', label=\"e+\")\n",
    "        plt.legend(loc='upper right')\n",
    "        plt.xlabel('Target thickness [mm]')\n",
    "        "
   ]
  },
  {
   "cell_type": "code",
   "execution_count": 11,
   "id": "desperate-dakota",
   "metadata": {},
   "outputs": [
    {
     "name": "stdout",
     "output_type": "stream",
     "text": [
      "LoadFile filename and status: 'SaveSim_THICK_TargetThickness-Pb-100MeV-gamma.h5' False\n",
      "THICK = 0.1 (1/80)\n",
      "Running command line: './MiniScatter -t 0.1 -m G4_Pb -d 100.0 -p QGSP_BERT -n 500 -e 1 -b gamma -z 0.0 -s 1 -f output_THICK=0.1 -o /tmp/miniScatter/PLE_thicknessScan -q -r --cutoffEnergyFraction 0.5 --cutoffRadius 100.0'\n",
      "\n",
      "Done!\n",
      "Deleting '/tmp/miniScatter/PLE_thicknessScan/output_THICK=0.1.root'.\n",
      "THICK = 0.6 (2/80)\n",
      "Running command line: './MiniScatter -t 0.6 -m G4_Pb -d 100.0 -p QGSP_BERT -n 500 -e 1 -b gamma -z 0.0 -s 2 -f output_THICK=0.6 -o /tmp/miniScatter/PLE_thicknessScan -q -r --cutoffEnergyFraction 0.5 --cutoffRadius 100.0'\n",
      "\n",
      "Done!\n",
      "Deleting '/tmp/miniScatter/PLE_thicknessScan/output_THICK=0.6.root'.\n",
      "THICK = 1.1 (3/80)\n",
      "Running command line: './MiniScatter -t 1.1 -m G4_Pb -d 100.0 -p QGSP_BERT -n 500 -e 1 -b gamma -z 0.0 -s 3 -f output_THICK=1.1 -o /tmp/miniScatter/PLE_thicknessScan -q -r --cutoffEnergyFraction 0.5 --cutoffRadius 100.0'\n",
      "\n",
      "Done!\n",
      "Deleting '/tmp/miniScatter/PLE_thicknessScan/output_THICK=1.1.root'.\n",
      "THICK = 1.6 (4/80)\n",
      "Running command line: './MiniScatter -t 1.6 -m G4_Pb -d 100.0 -p QGSP_BERT -n 500 -e 1 -b gamma -z 0.0 -s 4 -f output_THICK=1.6 -o /tmp/miniScatter/PLE_thicknessScan -q -r --cutoffEnergyFraction 0.5 --cutoffRadius 100.0'\n",
      "\n",
      "Done!\n",
      "Errors encountered during simulation\n",
      "Please check logfile './log/MiniScatterLog_2021-04-12T09:20:25.052986.txt'\n",
      "Command line: './MiniScatter -t 1.6 -m G4_Pb -d 100.0 -p QGSP_BERT -n 500 -e 1 -b gamma -z 0.0 -s 4 -f output_THICK=1.6 -o /tmp/miniScatter/PLE_thicknessScan -q -r --cutoffEnergyFraction 0.5 --cutoffRadius 100.0'\n"
     ]
    },
    {
     "name": "stderr",
     "output_type": "stream",
     "text": [
      "Exception in thread Thread-7:\n",
      "Traceback (most recent call last):\n",
      "  File \"/cvmfs/sft.cern.ch/lcg/releases/Python/3.8.6-3199b/x86_64-centos7-gcc8-opt/lib/python3.8/threading.py\", line 932, in _bootstrap_inner\n",
      "    self.run()\n",
      "  File \"/cvmfs/sft.cern.ch/lcg/releases/Python/3.8.6-3199b/x86_64-centos7-gcc8-opt/lib/python3.8/threading.py\", line 870, in run\n"
     ]
    },
    {
     "ename": "KeyboardInterrupt",
     "evalue": "",
     "output_type": "error",
     "traceback": [
      "\u001b[0;31m---------------------------------------------------------------------------\u001b[0m",
      "\u001b[0;31mKeyboardInterrupt\u001b[0m                         Traceback (most recent call last)",
      "\u001b[0;32m<ipython-input-11-a8b0ab73338e>\u001b[0m in \u001b[0;36m<module>\u001b[0;34m\u001b[0m\n\u001b[1;32m     10\u001b[0m \u001b[0;31m#run the simulation or load file if simulation already runned\u001b[0m\u001b[0;34m\u001b[0m\u001b[0;34m\u001b[0m\u001b[0;34m\u001b[0m\u001b[0m\n\u001b[1;32m     11\u001b[0m \u001b[0;34m(\u001b[0m\u001b[0mtwiss_Pb\u001b[0m\u001b[0;34m,\u001b[0m \u001b[0mnumPart_Pb\u001b[0m\u001b[0;34m,\u001b[0m \u001b[0mobjects_Pb\u001b[0m\u001b[0;34m,\u001b[0m \u001b[0manalysis_output_Pb\u001b[0m\u001b[0;34m)\u001b[0m \u001b[0;34m=\u001b[0m\u001b[0;31m \u001b[0m\u001b[0;31m\\\u001b[0m\u001b[0;34m\u001b[0m\u001b[0;34m\u001b[0m\u001b[0m\n\u001b[0;32m---> 12\u001b[0;31m     miniScatterScanner.ScanMiniScatter(\"THICK\",thickScan_Pb,baseSimSetup_Pb, \\\n\u001b[0m\u001b[1;32m     13\u001b[0m                                        \u001b[0mNUM_THREADS\u001b[0m\u001b[0;34m=\u001b[0m\u001b[0;36m1\u001b[0m\u001b[0;34m,\u001b[0m\u001b[0mtryLoad\u001b[0m\u001b[0;34m=\u001b[0m\u001b[0mTRYLOAD\u001b[0m\u001b[0;34m,\u001b[0m\u001b[0;31m\\\u001b[0m\u001b[0;34m\u001b[0m\u001b[0;34m\u001b[0m\u001b[0m\n\u001b[1;32m     14\u001b[0m                                        \u001b[0mCOMMENT\u001b[0m\u001b[0;34m=\u001b[0m\u001b[0;34m\"TargetThickness-Pb-100MeV-gamma\"\u001b[0m\u001b[0;34m,\u001b[0m \u001b[0mQUIET\u001b[0m\u001b[0;34m=\u001b[0m\u001b[0mQUIET\u001b[0m\u001b[0;34m,\u001b[0m\u001b[0;31m\\\u001b[0m\u001b[0;34m\u001b[0m\u001b[0;34m\u001b[0m\u001b[0m\n",
      "\u001b[0;32m/eos/home-c/cramonal/SWAN_projects/FAEA/MiniScatter/build_SWAN/miniScatterScanner.py\u001b[0m in \u001b[0;36mScanMiniScatter\u001b[0;34m(scanVar, scanVarRange, baseSimSetup, NUM_THREADS, tryLoad, COMMENT, QUIET, detailedAnalysisRoutine, detailedAnalysisRoutine_names, cleanROOT, getObjects, sameSeedValue, tmpFolder)\u001b[0m\n\u001b[1;32m    557\u001b[0m         \u001b[0mworker\u001b[0m\u001b[0;34m.\u001b[0m\u001b[0mstart\u001b[0m\u001b[0;34m(\u001b[0m\u001b[0;34m)\u001b[0m\u001b[0;34m\u001b[0m\u001b[0;34m\u001b[0m\u001b[0m\n\u001b[1;32m    558\u001b[0m \u001b[0;34m\u001b[0m\u001b[0m\n\u001b[0;32m--> 559\u001b[0;31m     \u001b[0mjobQueue\u001b[0m\u001b[0;34m.\u001b[0m\u001b[0mjoin\u001b[0m\u001b[0;34m(\u001b[0m\u001b[0;34m)\u001b[0m\u001b[0;34m\u001b[0m\u001b[0;34m\u001b[0m\u001b[0m\n\u001b[0m\u001b[1;32m    560\u001b[0m     \u001b[0;32mif\u001b[0m \u001b[0msameSeedValue\u001b[0m \u001b[0;34m!=\u001b[0m \u001b[0;32mNone\u001b[0m\u001b[0;34m:\u001b[0m\u001b[0;34m\u001b[0m\u001b[0;34m\u001b[0m\u001b[0m\n\u001b[1;32m    561\u001b[0m         \u001b[0mSEED\u001b[0m \u001b[0;34m=\u001b[0m \u001b[0mSEED\u001b[0m\u001b[0;34m+\u001b[0m\u001b[0mi\u001b[0m \u001b[0;31m#Prepare the SEED for the next run of simulations\u001b[0m\u001b[0;34m\u001b[0m\u001b[0;34m\u001b[0m\u001b[0m\n",
      "\u001b[0;32m/cvmfs/sft.cern.ch/lcg/releases/Python/3.8.6-3199b/x86_64-centos7-gcc8-opt/lib/python3.8/queue.py\u001b[0m in \u001b[0;36mjoin\u001b[0;34m(self)\u001b[0m\n\u001b[1;32m     87\u001b[0m         \u001b[0;32mwith\u001b[0m \u001b[0mself\u001b[0m\u001b[0;34m.\u001b[0m\u001b[0mall_tasks_done\u001b[0m\u001b[0;34m:\u001b[0m\u001b[0;34m\u001b[0m\u001b[0;34m\u001b[0m\u001b[0m\n\u001b[1;32m     88\u001b[0m             \u001b[0;32mwhile\u001b[0m \u001b[0mself\u001b[0m\u001b[0;34m.\u001b[0m\u001b[0munfinished_tasks\u001b[0m\u001b[0;34m:\u001b[0m\u001b[0;34m\u001b[0m\u001b[0;34m\u001b[0m\u001b[0m\n\u001b[0;32m---> 89\u001b[0;31m                 \u001b[0mself\u001b[0m\u001b[0;34m.\u001b[0m\u001b[0mall_tasks_done\u001b[0m\u001b[0;34m.\u001b[0m\u001b[0mwait\u001b[0m\u001b[0;34m(\u001b[0m\u001b[0;34m)\u001b[0m\u001b[0;34m\u001b[0m\u001b[0;34m\u001b[0m\u001b[0m\n\u001b[0m\u001b[1;32m     90\u001b[0m \u001b[0;34m\u001b[0m\u001b[0m\n\u001b[1;32m     91\u001b[0m     \u001b[0;32mdef\u001b[0m \u001b[0mqsize\u001b[0m\u001b[0;34m(\u001b[0m\u001b[0mself\u001b[0m\u001b[0;34m)\u001b[0m\u001b[0;34m:\u001b[0m\u001b[0;34m\u001b[0m\u001b[0;34m\u001b[0m\u001b[0m\n",
      "\u001b[0;32m/cvmfs/sft.cern.ch/lcg/releases/Python/3.8.6-3199b/x86_64-centos7-gcc8-opt/lib/python3.8/threading.py\u001b[0m in \u001b[0;36mwait\u001b[0;34m(self, timeout)\u001b[0m\n\u001b[1;32m    300\u001b[0m         \u001b[0;32mtry\u001b[0m\u001b[0;34m:\u001b[0m    \u001b[0;31m# restore state no matter what (e.g., KeyboardInterrupt)\u001b[0m\u001b[0;34m\u001b[0m\u001b[0;34m\u001b[0m\u001b[0m\n\u001b[1;32m    301\u001b[0m             \u001b[0;32mif\u001b[0m \u001b[0mtimeout\u001b[0m \u001b[0;32mis\u001b[0m \u001b[0;32mNone\u001b[0m\u001b[0;34m:\u001b[0m\u001b[0;34m\u001b[0m\u001b[0;34m\u001b[0m\u001b[0m\n\u001b[0;32m--> 302\u001b[0;31m                 \u001b[0mwaiter\u001b[0m\u001b[0;34m.\u001b[0m\u001b[0macquire\u001b[0m\u001b[0;34m(\u001b[0m\u001b[0;34m)\u001b[0m\u001b[0;34m\u001b[0m\u001b[0;34m\u001b[0m\u001b[0m\n\u001b[0m\u001b[1;32m    303\u001b[0m                 \u001b[0mgotit\u001b[0m \u001b[0;34m=\u001b[0m \u001b[0;32mTrue\u001b[0m\u001b[0;34m\u001b[0m\u001b[0;34m\u001b[0m\u001b[0m\n\u001b[1;32m    304\u001b[0m             \u001b[0;32melse\u001b[0m\u001b[0;34m:\u001b[0m\u001b[0;34m\u001b[0m\u001b[0;34m\u001b[0m\u001b[0m\n",
      "\u001b[0;31mKeyboardInterrupt\u001b[0m: "
     ]
    },
    {
     "name": "stderr",
     "output_type": "stream",
     "text": [
      "    self._target(*self._args, **self._kwargs)\n",
      "  File \"../build_SWAN/miniScatterScanner.py\", line 546, in threadWorker\n",
      "    computeOnePoint(var,simIdx,lock)\n",
      "  File \"../build_SWAN/miniScatterScanner.py\", line 450, in computeOnePoint\n",
      "    miniScatterDriver.runScatter(simSetup,quiet=QUIET, onlyCommand=True)\n",
      "  File \"../build_SWAN/miniScatterDriver.py\", line 247, in runScatter\n",
      "    \n",
      "miniScatterDriver.SimulationError: Simulation crashed with returncode = -2, see log file './log/MiniScatterLog_2021-04-12T09:20:25.052986.txt' for more info.\n"
     ]
    }
   ],
   "source": [
    "# Exaple on how to launch gamma with energy 1 MeV on a lead target\n",
    "baseSimSetup_Pb = baseSimSetup.copy()\n",
    "baseSimSetup_Pb[\"BEAM\"] = \"gamma\" #type of particle (\"e+\" for betas)\n",
    "baseSimSetup_Pb[\"MAT\"] = \"G4_Pb\" #target material\n",
    "baseSimSetup_Pb[\"ENERGY\"] = 1 # Energy of the beam in MeV, is a pencil beam \n",
    "\n",
    "\n",
    "thickScan_Pb =np.arange(0.1,40,0.5) #scan in differentes vaules of the material thikness\n",
    "\n",
    "#run the simulation or load file if simulation already runned \n",
    "(twiss_Pb, numPart_Pb, objects_Pb, analysis_output_Pb) = \\\n",
    "    miniScatterScanner.ScanMiniScatter(\"THICK\",thickScan_Pb,baseSimSetup_Pb, \\\n",
    "                                       NUM_THREADS=1,tryLoad=TRYLOAD,\\\n",
    "                                       COMMENT=\"TargetThickness-Pb-100MeV-gamma\", QUIET=QUIET,\\\n",
    "                                       tmpFolder=TMPFOLDER)\n",
    "\n",
    "#plotting\n",
    "showYield_singleSim(thickScan_Pb,numPart_Pb,baseSimSetup_Pb[\"N\"],p_type='gamma')\n",
    "\n",
    "plt.show()"
   ]
  },
  {
   "cell_type": "code",
   "execution_count": null,
   "id": "charged-context",
   "metadata": {},
   "outputs": [],
   "source": []
  }
 ],
 "metadata": {
  "kernelspec": {
   "display_name": "Python 3",
   "language": "python",
   "name": "python3"
  },
  "language_info": {
   "codemirror_mode": {
    "name": "ipython",
    "version": 3
   },
   "file_extension": ".py",
   "mimetype": "text/x-python",
   "name": "python",
   "nbconvert_exporter": "python",
   "pygments_lexer": "ipython3",
   "version": "3.8.6"
  }
 },
 "nbformat": 4,
 "nbformat_minor": 5
}
