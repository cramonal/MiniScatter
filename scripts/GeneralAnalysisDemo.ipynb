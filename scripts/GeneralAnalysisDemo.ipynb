{
 "cells": [
  {
   "cell_type": "markdown",
   "metadata": {},
   "source": [
    "# GeneralAnalysisDemo\n",
    "\n",
    "This tests the new generalized scanning framework \"miniScatterScanner.py\", as well as the loading of a TTree with all the data and doing a rudimentary analysis of it."
   ]
  },
  {
   "cell_type": "code",
   "execution_count": 1,
   "metadata": {},
   "outputs": [],
   "source": [
    "import numpy as np\n",
    "import matplotlib.pyplot as plt\n",
    "from scipy import stats"
   ]
  },
  {
   "cell_type": "code",
   "execution_count": 2,
   "metadata": {},
   "outputs": [],
   "source": [
    "%matplotlib notebook\n",
    "plt.rcParams['figure.figsize'] = [8, 5]\n",
    "plt.rcParams['figure.dpi'] = 100\n",
    "\n",
    "#colorCycle = plt.rcParams['axes.prop_cycle']\n",
    "plt.rcParams['figure.max_open_warning'] = 100"
   ]
  },
  {
   "cell_type": "code",
   "execution_count": 3,
   "metadata": {},
   "outputs": [
    {
     "name": "stdout",
     "output_type": "stream",
     "text": [
      "Welcome to JupyROOT 6.14/02\n"
     ]
    },
    {
     "name": "stderr",
     "output_type": "stream",
     "text": [
      "/usr/lib64/python3.6/site-packages/ROOT.py:461: FutureWarning: Conversion of the second argument of issubdtype from `float` to `np.floating` is deprecated. In future, it will be treated as `np.float64 == np.dtype(float).type`.\n",
      "  return _orig_ihook( name, *args, **kwds )\n"
     ]
    }
   ],
   "source": [
    "import miniScatterDriver\n",
    "import miniScatterScanner"
   ]
  },
  {
   "cell_type": "code",
   "execution_count": 4,
   "metadata": {},
   "outputs": [
    {
     "name": "stdout",
     "output_type": "stream",
     "text": [
      "press = [  0.5   50.25 100.  ] [mbar], COMMENT=LINSPACE\n"
     ]
    }
   ],
   "source": [
    "#Basic parameters\n",
    "NUM_THREADS = 16\n",
    "QUIET = False\n",
    "TRYLOAD = False #Try to load already existing data instead of recomputing?\n",
    "\n",
    "baseSimSetup = {}\n",
    "baseSimSetup[\"PHYS\"] = \"QGSP_BERT__SS\"\n",
    "baseSimSetup[\"BEAM\"] = \"e-\"\n",
    "\n",
    "baseSimSetup[\"THICK\"] = 15 #Target thickness [mm]\n",
    "\n",
    "baseSimSetup[\"ENERGY\"] = 215.0 #[MeV]\n",
    "EPS   = 3.0 #[um]\n",
    "BETA  = 1.4 #[m]\n",
    "ALPHA = 0.0\n",
    "baseSimSetup[\"COVAR\"] = (EPS,BETA,ALPHA)\n",
    "\n",
    "baseSimSetup[\"ZOFFSET\"] = -baseSimSetup[\"THICK\"]\n",
    "baseSimSetup[\"ZOFFSET_BACKTRACK\"]=True\n",
    "\n",
    "baseSimSetup[\"DIST\"] = 1000.0 #[mm]\n",
    "\n",
    "baseSimSetup[\"QUICKMODE\"] = True #Skip verification plots\n",
    "\n",
    "#The scan\n",
    "#press = np.logspace(np.log10(0.5),np.log10(100), 30) #[mbar]\n",
    "#COMMENT=\"LOGSPACE\"\n",
    "\n",
    "#press = np.linspace(0.5,100,30)\n",
    "press = np.linspace(0.5,100,3)\n",
    "COMMENT = \"LINSPACE\"\n",
    "\n",
    "print(\"press =\", press, \"[mbar], COMMENT={}\".format(COMMENT))\n",
    "\n",
    "#Lowest energy particles to consider for analysis\n",
    "E_CUTOFF = baseSimSetup[\"THICK\"]*0.9;\n"
   ]
  },
  {
   "cell_type": "code",
   "execution_count": 5,
   "metadata": {},
   "outputs": [
    {
     "name": "stdout",
     "output_type": "stream",
     "text": [
      "LoadFile filename and status: 'SaveSim_BEAM=e---COVAR=(3.0, 1.4, 0.0)--DIST=1000.0--ENERGY=215.0--MAT=Ar--N=1000--PHYS=QGSP_BERT__SS--QUICKMODE=True--THICK=15--ZOFFSET=-15--ZOFFSET_BACKTRACK=True--SCANVAR=PRESS=[0.5,50.25,100.0]--COMMENT=LINSPACE.h5' False\n",
      "PRESS = 0.5 (1/3)\n",
      "Running command line: './MiniScatter -t 15 -m Ar::0.5 -d 1000.0 -p QGSP_BERT__SS -n 1000 -e 215.0 -b e- -z *-15 -c 3.0:1.4:0.0 -s 1 -f output_PRESS=0.5 -q'\n",
      "PRESS = 50.25 (2/3)\n",
      "Running command line: './MiniScatter -t 15 -m Ar::50.25 -d 1000.0 -p QGSP_BERT__SS -n 1000 -e 215.0 -b e- -z *-15 -c 3.0:1.4:0.0 -s 2 -f output_PRESS=50.25 -q'\n",
      "PRESS = 100.0 (3/3)\n",
      "Running command line: './MiniScatter -t 15 -m Ar::100.0 -d 1000.0 -p QGSP_BERT__SS -n 1000 -e 215.0 -b e- -z *-15 -c 3.0:1.4:0.0 -s 3 -f output_PRESS=100.0 -q'\n",
      "Done!\n",
      "X : 2.9919676986849106 1.4355181855272048 0.02319386587972064\n",
      "Y : 3.1492388895857344 1.3711964875156835 -0.029115340654662585\n",
      "Done!\n",
      "X : 2.9919676986849106 1.4355181855272048 0.02319386587972064\n",
      "Y : 3.1492388895857344 1.3711964875156835 -0.029115340654662585\n",
      "Done!\n",
      "X : 2.9919676986849106 1.4355181855272048 0.02319386587972064\n",
      "Y : 3.1492388895857344 1.3711964875156835 -0.029115340654662585\n",
      "Simulation complete, saving data to h5 for later retrival.\n"
     ]
    }
   ],
   "source": [
    "baseSimSetup_Ar = baseSimSetup.copy()\n",
    "baseSimSetup[\"MAT\"] = \"Ar\"\n",
    "baseSimSetup[\"N\"] = 1000\n",
    "\n",
    "def countParticleTypes(datafile):\n",
    "    out = {}\n",
    "    out[\"n_em\"] = 0.0\n",
    "    out[\"n_ep\"] = 0.0\n",
    "    \n",
    "    for hit in datafile.TargetExit:\n",
    "        if hit.E > E_CUTOFF:\n",
    "                if hit.PDG == 11:\n",
    "                    out[\"n_em\"] += 1\n",
    "                elif hit.PDG == 11:\n",
    "                    out[\"n_ep\"] += 1\n",
    "    \n",
    "    #for hit in datafile.TrackerHits:\n",
    "    #    print (hit)\n",
    "    \n",
    "    return out\n",
    "\n",
    "(eps_x_Ar,eps_y_Ar, beta_x_Ar,beta_y_Ar, alpha_x_Ar,alpha_y_Ar, sigma_x_Ar,sigma_y_Ar, analysisOutput) = \\\n",
    "    miniScatterScanner.ScanMiniScatter(\"PRESS\",press,baseSimSetup, \\\n",
    "                                       NUM_THREADS=NUM_THREADS,tryLoad=TRYLOAD,COMMENT=COMMENT, QUIET=QUIET, \\\n",
    "                                       detailedAnalysisRoutine=countParticleTypes,detailedAnalysisRoutine_names=[\"n_em\",\"n_ep\"])\n",
    "\n",
    "#plt.figure()\n",
    "#plt.semilogx(press,eps_x_Ar)\n",
    "#plt.semilogx(press,eps_y_Ar)"
   ]
  },
  {
   "cell_type": "code",
   "execution_count": 6,
   "metadata": {},
   "outputs": [
    {
     "data": {
      "text/plain": [
       "{'n_em': array([1000., 1001., 1001.]), 'n_ep': array([0., 0., 0.])}"
      ]
     },
     "execution_count": 6,
     "metadata": {},
     "output_type": "execute_result"
    }
   ],
   "source": [
    "analysisOutput"
   ]
  },
  {
   "cell_type": "code",
   "execution_count": null,
   "metadata": {},
   "outputs": [],
   "source": []
  }
 ],
 "metadata": {
  "kernelspec": {
   "display_name": "Python 3",
   "language": "python",
   "name": "python3"
  },
  "language_info": {
   "codemirror_mode": {
    "name": "ipython",
    "version": 3
   },
   "file_extension": ".py",
   "mimetype": "text/x-python",
   "name": "python",
   "nbconvert_exporter": "python",
   "pygments_lexer": "ipython3",
   "version": "3.6.6"
  }
 },
 "nbformat": 4,
 "nbformat_minor": 2
}
